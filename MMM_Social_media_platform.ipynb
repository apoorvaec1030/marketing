{
  "nbformat": 4,
  "nbformat_minor": 0,
  "metadata": {
    "colab": {
      "provenance": [],
      "authorship_tag": "ABX9TyMomH6PwNYnOaJhqoR/0fYc",
      "include_colab_link": true
    },
    "kernelspec": {
      "name": "python3",
      "display_name": "Python 3"
    },
    "language_info": {
      "name": "python"
    }
  },
  "cells": [
    {
      "cell_type": "markdown",
      "metadata": {
        "id": "view-in-github",
        "colab_type": "text"
      },
      "source": [
        "<a href=\"https://colab.research.google.com/github/apoorvaec1030/marketing/blob/main/MMM_Social_media_platform.ipynb\" target=\"_parent\"><img src=\"https://colab.research.google.com/assets/colab-badge.svg\" alt=\"Open In Colab\"/></a>"
      ]
    },
    {
      "cell_type": "markdown",
      "source": [
        "1. Data simulation for spend across different channels (TV, social media, search ads, influencers).\n",
        "\n",
        "2. Exploratory Data Analysis (EDA) using Seaborn.\n",
        "\n",
        "3. Ordinary Least Squares (OLS) regression model to estimate channel effectiveness.\n",
        "\n",
        "4. Prediction visualization to compare actual vs. predicted conversions."
      ],
      "metadata": {
        "id": "Ava70yf6wpwb"
      }
    },
    {
      "cell_type": "code",
      "execution_count": null,
      "metadata": {
        "id": "aQNOQ1PUwXtS"
      },
      "outputs": [],
      "source": [
        "import pandas as pd\n",
        "import numpy as np\n",
        "import statsmodels.api as sm\n",
        "import matplotlib.pyplot as plt\n",
        "import seaborn as sns\n",
        "\n",
        "# Simulated Data Generation\n",
        "np.random.seed(42)\n",
        "days = 365\n",
        "date_range = pd.date_range(start='2024-01-01', periods=days, freq='D')\n",
        "\n",
        "# Simulating marketing spend channels\n",
        "tv_spend = np.random.uniform(1000, 5000, days)\n",
        "social_media_spend = np.random.uniform(500, 3000, days)\n",
        "search_ads_spend = np.random.uniform(800, 4000, days)\n",
        "influencer_spend = np.random.uniform(200, 1500, days)\n",
        "\n",
        "# Applying media saturation effect using diminishing returns function\n",
        "def saturation_effect(spend, alpha=0.0005, beta=0.8):\n",
        "    return (spend ** beta) / (spend ** beta + alpha * spend)\n",
        "\n",
        "tv_spend_sat = saturation_effect(tv_spend)\n",
        "social_media_spend_sat = saturation_effect(social_media_spend)\n",
        "search_ads_spend_sat = saturation_effect(search_ads_spend)\n",
        "influencer_spend_sat = saturation_effect(influencer_spend)\n",
        "\n",
        "# Simulating organic factors\n",
        "seasonality = 1000 + 500 * np.sin(np.linspace(0, 2*np.pi, days))\n",
        "trend = np.linspace(5000, 10000, days)\n",
        "random_noise = np.random.normal(0, 1000, days)\n",
        "\n",
        "# Creating response variable: conversions\n",
        "conversions = (0.3 * tv_spend_sat + 0.5 * social_media_spend_sat + 0.4 * search_ads_spend_sat +\n",
        "               0.6 * influencer_spend_sat + seasonality + trend + random_noise)\n",
        "\n",
        "# Creating DataFrame\n",
        "df = pd.DataFrame({\n",
        "    'date': date_range,\n",
        "    'tv_spend': tv_spend,\n",
        "    'social_media_spend': social_media_spend,\n",
        "    'search_ads_spend': search_ads_spend,\n",
        "    'influencer_spend': influencer_spend,\n",
        "    'tv_spend_sat': tv_spend_sat,\n",
        "    'social_media_spend_sat': social_media_spend_sat,\n",
        "    'search_ads_spend_sat': search_ads_spend_sat,\n",
        "    'influencer_spend_sat': influencer_spend_sat,\n",
        "    'conversions': conversions\n",
        "})\n",
        "\n",
        "df.set_index('date', inplace=True)\n",
        "\n",
        "# Exploratory Data Analysis\n",
        "sns.pairplot(df[['tv_spend_sat', 'social_media_spend_sat', 'search_ads_spend_sat', 'influencer_spend_sat', 'conversions']])\n",
        "plt.show()\n",
        "\n",
        "# Building the MMM Model\n",
        "X = df[['tv_spend_sat', 'social_media_spend_sat', 'search_ads_spend_sat', 'influencer_spend_sat']]\n",
        "X = sm.add_constant(X)  # Add intercept\n",
        "y = df['conversions']\n",
        "model = sm.OLS(y, X).fit()\n",
        "\n",
        "# Model Summary\n",
        "print(model.summary())\n",
        "\n",
        "# Visualizing Model Predictions\n",
        "df['predicted_conversions'] = model.predict(X)\n",
        "plt.figure(figsize=(12, 6))\n",
        "plt.plot(df.index, df['conversions'], label='Actual Conversions', color='blue')\n",
        "plt.plot(df.index, df['predicted_conversions'], label='Predicted Conversions', color='red', linestyle='dashed')\n",
        "plt.legend()\n",
        "plt.title('Actual vs. Predicted Conversions')\n",
        "plt.show()\n"
      ]
    }
  ]
}